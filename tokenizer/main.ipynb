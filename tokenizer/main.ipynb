{
 "cells": [
  {
   "cell_type": "code",
   "id": "initial_id",
   "metadata": {
    "collapsed": true,
    "ExecuteTime": {
     "end_time": "2024-12-06T17:42:08.069112Z",
     "start_time": "2024-12-06T17:42:08.066773Z"
    }
   },
   "source": "import tiktoken",
   "outputs": [],
   "execution_count": 14
  },
  {
   "metadata": {
    "ExecuteTime": {
     "end_time": "2024-12-06T17:42:08.100625Z",
     "start_time": "2024-12-06T17:42:08.097382Z"
    }
   },
   "cell_type": "code",
   "source": [
    "tokenizer = tiktoken.get_encoding(\"gpt2\")\n",
    "\n",
    "text = (\n",
    "    \"Hello, do you like tea? <|endoftext|> In the sunlit terraces\"\n",
    "    \"of someunkwownPlace\"\n",
    ")\n",
    "\n",
    "integers = tokenizer.encode(text, allowed_special={\"<|endoftext|>\"})\n",
    "print(integers)"
   ],
   "id": "46b01c5a8a04f58d",
   "outputs": [
    {
     "name": "stdout",
     "output_type": "stream",
     "text": [
      "[15496, 11, 466, 345, 588, 8887, 30, 220, 50256, 554, 262, 4252, 18250, 8812, 2114, 1659, 617, 2954, 86, 593, 27271]\n"
     ]
    }
   ],
   "execution_count": 15
  },
  {
   "metadata": {
    "ExecuteTime": {
     "end_time": "2024-12-06T17:42:08.152946Z",
     "start_time": "2024-12-06T17:42:08.150132Z"
    }
   },
   "cell_type": "code",
   "source": [
    "strings = tokenizer.decode(integers)\n",
    "print(strings)"
   ],
   "id": "e4bd59d4dfe02a92",
   "outputs": [
    {
     "name": "stdout",
     "output_type": "stream",
     "text": [
      "Hello, do you like tea? <|endoftext|> In the sunlit terracesof someunkwownPlace\n"
     ]
    }
   ],
   "execution_count": 16
  },
  {
   "metadata": {
    "ExecuteTime": {
     "end_time": "2024-12-06T17:42:08.209605Z",
     "start_time": "2024-12-06T17:42:08.205992Z"
    }
   },
   "cell_type": "code",
   "source": [
    "integers = tokenizer.encode(\"Akwirw ier\")\n",
    "print(integers)\n",
    "\n",
    "strings = tokenizer.decode(integers)\n",
    "print(strings)"
   ],
   "id": "9f61737244e638bc",
   "outputs": [
    {
     "name": "stdout",
     "output_type": "stream",
     "text": [
      "[33901, 86, 343, 86, 220, 959]\n",
      "Akwirw ier\n"
     ]
    }
   ],
   "execution_count": 17
  },
  {
   "metadata": {
    "ExecuteTime": {
     "end_time": "2024-12-06T17:42:08.289134Z",
     "start_time": "2024-12-06T17:42:08.266339Z"
    }
   },
   "cell_type": "code",
   "source": [
    "with open(\"/home/enid/Downloads/wizard-of-oz.txt\", \"r\", encoding=\"utf-8\") as f:\n",
    "    raw_text = f.read()\n",
    "\n",
    "enc_text = tokenizer.encode(raw_text)"
   ],
   "id": "2c0f5878d38b43c4",
   "outputs": [],
   "execution_count": 18
  },
  {
   "metadata": {
    "ExecuteTime": {
     "end_time": "2024-12-06T17:42:08.322256Z",
     "start_time": "2024-12-06T17:42:08.318572Z"
    }
   },
   "cell_type": "code",
   "source": [
    "context_size = 4\n",
    "\n",
    "enc_sample = enc_text[50:]\n",
    "x = enc_sample[:context_size]\n",
    "y = enc_sample[1:context_size + 1]\n",
    "\n",
    "print(f\"x: {x}\")\n",
    "print(f\"y:          {y}\")"
   ],
   "id": "f35920afe860f4a2",
   "outputs": [
    {
     "name": "stdout",
     "output_type": "stream",
     "text": [
      "x: [15485, 13, 921, 743]\n",
      "y:          [13, 921, 743, 4866]\n"
     ]
    }
   ],
   "execution_count": 19
  },
  {
   "metadata": {
    "ExecuteTime": {
     "end_time": "2024-12-06T17:42:08.379845Z",
     "start_time": "2024-12-06T17:42:08.375601Z"
    }
   },
   "cell_type": "code",
   "source": [
    "for i in range(1, context_size + 1):\n",
    "    context = enc_sample[:i]\n",
    "    desired = enc_sample[i]\n",
    "    print(tokenizer.decode(context), \"---->\", tokenizer.decode([desired]))"
   ],
   "id": "4fbe7d48f87b7ebf",
   "outputs": [
    {
     "name": "stdout",
     "output_type": "stream",
     "text": [
      "soever ----> .\n",
      "soever. ---->  You\n",
      "soever. You ---->  may\n",
      "soever. You may ---->  copy\n"
     ]
    }
   ],
   "execution_count": 20
  },
  {
   "metadata": {
    "ExecuteTime": {
     "end_time": "2024-12-06T17:42:08.434701Z",
     "start_time": "2024-12-06T17:42:08.430244Z"
    }
   },
   "cell_type": "code",
   "source": [
    "from torch.utils.data import Dataset, DataLoader\n",
    "import torch\n",
    "\n",
    "class GPTDatasetV1(Dataset):\n",
    "    def __init__(self, txt, tokenizer, max_len, stride):    # max_len = context_size, stride determina quantas palavras para o lado vamos\n",
    "        self.input_ids = []\n",
    "        self.target_ids = []\n",
    "        \n",
    "        token_ids = tokenizer.encode(txt, allowed_special={\"<|endoftext|>\"})\n",
    "        \n",
    "        # Sliding window\n",
    "        for i in range(0, len(token_ids) - max_len, stride):\n",
    "            input_chunk = token_ids[i : i + max_len]\n",
    "            target_chunk = token_ids[i + 1 : i + max_len + 1]\n",
    "            self.input_ids.append(torch.tensor(input_chunk))\n",
    "            self.target_ids.append(torch.tensor(target_chunk))\n",
    "            \n",
    "    def __len__(self):\n",
    "        return len(self.input_ids)\n",
    "    \n",
    "    def __getitem__(self, idx):     # retorna linha idx do tensor de input e linha idx do tensor de output, necessário para colocar no dataloader\n",
    "        return self.input_ids[idx], self.target_ids[idx]\n",
    "            "
   ],
   "id": "769d763e0c716c63",
   "outputs": [],
   "execution_count": 21
  },
  {
   "metadata": {
    "ExecuteTime": {
     "end_time": "2024-12-06T17:42:08.482831Z",
     "start_time": "2024-12-06T17:42:08.479620Z"
    }
   },
   "cell_type": "code",
   "source": [
    "# drop_last = True para retirar ultimo batch caso este seja menor que batch_size para prevenir spikes de loss no treinamento\n",
    "# Ajuda a criar pares input output a partir do dataset que definimos anteriormente\n",
    "# Facilita processamento em paralelo\n",
    "# batch_size é o número de batches que o modelo processa antes de atualizar seus parâmetros\n",
    "# num_workers é o número de cpus para processar\n",
    "def create_dataloader_v1(txt, batch_size=4, max_len=256,        # batch_size -> numero de cpus para rodar\n",
    "                         stride=128, shuffle=True, drop_last=True,\n",
    "                         num_workers=0):\n",
    "    \n",
    "    tokenizer = tiktoken.get_encoding(\"gpt2\")\n",
    "    \n",
    "    # Inicializando dataset\n",
    "    dataset = GPTDatasetV1(txt, tokenizer, max_len, stride)\n",
    "    \n",
    "    # Inicializando dataloader\n",
    "    dataloader = DataLoader(\n",
    "        dataset,\n",
    "        batch_size=batch_size,\n",
    "        shuffle=shuffle,\n",
    "        drop_last=drop_last,\n",
    "        num_workers=num_workers\n",
    "    )\n",
    "    \n",
    "    return dataloader"
   ],
   "id": "3d1a2462375ee228",
   "outputs": [],
   "execution_count": 22
  },
  {
   "metadata": {
    "ExecuteTime": {
     "end_time": "2024-12-06T17:42:08.535344Z",
     "start_time": "2024-12-06T17:42:08.531770Z"
    }
   },
   "cell_type": "code",
   "source": [
    "with open(\"/home/enid/Downloads/wizard-of-oz.txt\", \"r\", encoding=\"utf-8\") as f:\n",
    "    text = f.read()"
   ],
   "id": "bc2b17f96437df20",
   "outputs": [],
   "execution_count": 23
  },
  {
   "metadata": {
    "ExecuteTime": {
     "end_time": "2024-12-06T17:42:09.214295Z",
     "start_time": "2024-12-06T17:42:08.582692Z"
    }
   },
   "cell_type": "code",
   "source": [
    "dataloader = create_dataloader_v1(\n",
    "    text, batch_size=1, max_len=4, stride=1, shuffle=False\n",
    ")\n",
    "\n",
    "data_iter = iter(dataloader)\n",
    "first_batch = next(data_iter)\n",
    "print(first_batch)"
   ],
   "id": "34563f4db2e0b5ab",
   "outputs": [
    {
     "name": "stdout",
     "output_type": "stream",
     "text": [
      "[tensor([[171, 119, 123, 464]]), tensor([[ 119,  123,  464, 4935]])]\n"
     ]
    }
   ],
   "execution_count": 24
  },
  {
   "metadata": {
    "ExecuteTime": {
     "end_time": "2024-12-06T17:42:09.543525Z",
     "start_time": "2024-12-06T17:42:09.253382Z"
    }
   },
   "cell_type": "code",
   "source": [
    "# Mudando o batch_size para 8 -> 8 tensores de input e 8 de output para processar\n",
    "# Colocando o stride para 4, utilizamos o dataset em sua totalidade e prevenimos sobreposição de palavras de cada batch. A sobreposição poderia aumentar o overfitting\n",
    "# Manter stride igual a max_len (contexto)\n",
    "dataloader = create_dataloader_v1(text, batch_size=8, max_len=4, stride=4, shuffle=False)\n",
    "\n",
    "data_iter = iter(dataloader)\n",
    "inputs, targets = next(data_iter)\n",
    "\n",
    "print(\"Inputs:\\n\", inputs)\n",
    "print(\"Targets:\\n\", targets)"
   ],
   "id": "60ea9fc23b65c39f",
   "outputs": [
    {
     "name": "stdout",
     "output_type": "stream",
     "text": [
      "Inputs:\n",
      " tensor([[  171,   119,   123,   464],\n",
      "        [ 4935, 20336, 46566,   286],\n",
      "        [  383, 40128, 16884,   286],\n",
      "        [18024,   198,   220,   220],\n",
      "        [  220,   220,   198,  1212],\n",
      "        [47179,   318,   329,   262],\n",
      "        [  779,   286,  2687,  6609],\n",
      "        [  287,   262,  1578,  1829]])\n",
      "Targets:\n",
      " tensor([[  119,   123,   464,  4935],\n",
      "        [20336, 46566,   286,   383],\n",
      "        [40128, 16884,   286, 18024],\n",
      "        [  198,   220,   220,   220],\n",
      "        [  220,   198,  1212, 47179],\n",
      "        [  318,   329,   262,   779],\n",
      "        [  286,  2687,  6609,   287],\n",
      "        [  262,  1578,  1829,   290]])\n"
     ]
    }
   ],
   "execution_count": 25
  },
  {
   "metadata": {
    "ExecuteTime": {
     "end_time": "2024-12-06T17:42:09.629999Z",
     "start_time": "2024-12-06T17:42:09.623768Z"
    }
   },
   "cell_type": "code",
   "source": [
    "input_ids = torch.tensor([2, 3, 5, 1]) # Token ids, cada um associado a uma palavra\n",
    "vocab_size = 6\n",
    "output_dim = 3 # Dimensões do vetor\n",
    "\n",
    "torch.manual_seed(123) # Gerar sempre os mesmos números\n",
    "embedding_layer = torch.nn.Embedding(vocab_size, output_dim)    # Inicia pesos com valores aleatórios\n",
    "\n",
    "print(embedding_layer.weight) # Cada linha é o vector embedding de cada token"
   ],
   "id": "33c21ba5b481e354",
   "outputs": [
    {
     "name": "stdout",
     "output_type": "stream",
     "text": [
      "Parameter containing:\n",
      "tensor([[ 0.3374, -0.1778, -0.1690],\n",
      "        [ 0.9178,  1.5810,  1.3010],\n",
      "        [ 1.2753, -0.2010, -0.1606],\n",
      "        [-0.4015,  0.9666, -1.1481],\n",
      "        [-1.1589,  0.3255, -0.6315],\n",
      "        [-2.8400, -0.7849, -1.4096]], requires_grad=True)\n"
     ]
    }
   ],
   "execution_count": 26
  },
  {
   "metadata": {
    "ExecuteTime": {
     "end_time": "2024-12-06T17:42:09.746860Z",
     "start_time": "2024-12-06T17:42:09.742595Z"
    }
   },
   "cell_type": "code",
   "source": [
    "# Representação dos pesos do vetor com o token id 3\n",
    "# Embedding layer serve como uma tabela para olhar pesos \n",
    "print(embedding_layer(torch.tensor([3])))"
   ],
   "id": "2bd07e872d680122",
   "outputs": [
    {
     "name": "stdout",
     "output_type": "stream",
     "text": [
      "tensor([[-0.4015,  0.9666, -1.1481]], grad_fn=<EmbeddingBackward0>)\n"
     ]
    }
   ],
   "execution_count": 27
  },
  {
   "metadata": {},
   "cell_type": "code",
   "outputs": [],
   "execution_count": null,
   "source": "print(embedding_layer(input_ids))   # Olha a tabela de pesos dos ids passados",
   "id": "8a6b97286ac373c8"
  }
 ],
 "metadata": {
  "kernelspec": {
   "display_name": "Python 3",
   "language": "python",
   "name": "python3"
  },
  "language_info": {
   "codemirror_mode": {
    "name": "ipython",
    "version": 2
   },
   "file_extension": ".py",
   "mimetype": "text/x-python",
   "name": "python",
   "nbconvert_exporter": "python",
   "pygments_lexer": "ipython2",
   "version": "2.7.6"
  }
 },
 "nbformat": 4,
 "nbformat_minor": 5
}
